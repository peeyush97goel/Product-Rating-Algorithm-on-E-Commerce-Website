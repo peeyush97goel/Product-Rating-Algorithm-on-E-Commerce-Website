{
 "cells": [
  {
   "cell_type": "markdown",
   "metadata": {},
   "source": [
    "![amazon](img/amazon-logo.jpg)\n",
    "\n",
    "## Product Category:\n",
    "# $$Sports\\ and\\ Outdoors\\ Reviews$$\n"
   ]
  },
  {
   "cell_type": "markdown",
   "metadata": {},
   "source": [
    "---\n",
    "![MountainBke](img/Mountain-Bike.jpg)\n",
    "<br>\n",
    "![climbing](img/climbing.jpg)\n",
    "<br>\n",
    "![outdoor-exercise](img/outdoor-exercise.jpg)"
   ]
  },
  {
   "cell_type": "markdown",
   "metadata": {},
   "source": [
    "---\n",
    "# Dataset\n",
    "\n",
    "![aws-s3](img/amazon_aws-s3.png)\n",
    "\n",
    "<br>\n",
    "UCSanDiego library/repo Curated by Julian McAuley [Source](http://jmcauley.ucsd.edu/data/amazon/)\n",
    "\n",
    "https://s3-us-west-2.amazonaws.com/msds-projects/data/reviews_Sports_and_Outdoors_5.json.gz"
   ]
  },
  {
   "cell_type": "code",
   "execution_count": 1,
   "metadata": {},
   "outputs": [],
   "source": [
    "reset -fs"
   ]
  },
  {
   "cell_type": "code",
   "execution_count": 2,
   "metadata": {},
   "outputs": [],
   "source": [
    "import gzip\n",
    "import itertools\n",
    "import string\n",
    "import wordcloud\n",
    "import numpy as np\n",
    "import pandas as pd\n",
    "import datetime as dt\n",
    "import matplotlib.pyplot as plt\n",
    "import pylab as pl\n",
    "\n",
    "from collections import Counter\n",
    "from sklearn import svm\n",
    "from sklearn.pipeline import Pipeline, make_pipeline\n",
    "from sklearn.linear_model import LogisticRegression\n",
    "from sklearn.feature_extraction.text import CountVectorizer, TfidfVectorizer\n",
    "from sklearn.decomposition import NMF, LatentDirichletAllocation\n",
    "from sklearn.naive_bayes import MultinomialNB\n",
    "from sklearn.model_selection import train_test_split, cross_val_score\n",
    "from sklearn.model_selection import GridSearchCV\n",
    "from sklearn.metrics import accuracy_score, confusion_matrix, f1_score\n",
    "\n",
    "from nltk import word_tokenize\n",
    "from nltk.corpus import stopwords\n",
    "from nltk.stem.wordnet import WordNetLemmatizer\n",
    "\n",
    "%matplotlib inline"
   ]
  },
  {
   "cell_type": "markdown",
   "metadata": {},
   "source": [
    "---\n",
    "# Part I EDA and Preprocessing\n",
    "---\n",
    "### `Download and Unzip Reviews into Pandas DataFrame`"
   ]
  },
  {
   "cell_type": "code",
   "execution_count": 3,
   "metadata": {},
   "outputs": [
    {
     "name": "stdout",
     "output_type": "stream",
     "text": [
      "Your data already exists in the directory. Enjoy.\n"
     ]
    }
   ],
   "source": [
    "!python load_data.py"
   ]
  },
  {
   "cell_type": "code",
   "execution_count": 4,
   "metadata": {},
   "outputs": [],
   "source": [
    "# Code provided via http://jmcauley.ucsd.edu/data/amazon/\n",
    "\n",
    "def parse_gz(path):\n",
    "    g = gzip.open(path, 'rb')\n",
    "    for l in g:\n",
    "        yield eval(l)\n",
    "\n",
    "def convert_to_DF(path):\n",
    "    i = 0\n",
    "    df = {}\n",
    "    for d in parse_gz(path):\n",
    "        df[i] = d\n",
    "        i += 1\n",
    "    return pd.DataFrame.from_dict(df, orient='index')"
   ]
  },
  {
   "cell_type": "markdown",
   "metadata": {},
   "source": [
    "* Convert compressed file of data into Pandas DataFrame"
   ]
  },
  {
   "cell_type": "code",
   "execution_count": 5,
   "metadata": {},
   "outputs": [],
   "source": [
    "sports_outdoors = convert_to_DF('reviews_Sports_and_Outdoors_5.json.gz')"
   ]
  },
  {
   "cell_type": "code",
   "execution_count": 6,
   "metadata": {},
   "outputs": [
    {
     "name": "stdout",
     "output_type": "stream",
     "text": [
      "Dataset size: 296,337 words\n"
     ]
    }
   ],
   "source": [
    "print('Dataset size: {:,} words'.format(len(sports_outdoors)))"
   ]
  },
  {
   "cell_type": "code",
   "execution_count": 7,
   "metadata": {},
   "outputs": [
    {
     "data": {
      "text/html": [
       "<div>\n",
       "<style scoped>\n",
       "    .dataframe tbody tr th:only-of-type {\n",
       "        vertical-align: middle;\n",
       "    }\n",
       "\n",
       "    .dataframe tbody tr th {\n",
       "        vertical-align: top;\n",
       "    }\n",
       "\n",
       "    .dataframe thead th {\n",
       "        text-align: right;\n",
       "    }\n",
       "</style>\n",
       "<table border=\"1\" class=\"dataframe\">\n",
       "  <thead>\n",
       "    <tr style=\"text-align: right;\">\n",
       "      <th></th>\n",
       "      <th>reviewerID</th>\n",
       "      <th>asin</th>\n",
       "      <th>reviewerName</th>\n",
       "      <th>helpful</th>\n",
       "      <th>reviewText</th>\n",
       "      <th>overall</th>\n",
       "      <th>summary</th>\n",
       "      <th>unixReviewTime</th>\n",
       "      <th>reviewTime</th>\n",
       "    </tr>\n",
       "  </thead>\n",
       "  <tbody>\n",
       "    <tr>\n",
       "      <th>0</th>\n",
       "      <td>AIXZKN4ACSKI</td>\n",
       "      <td>1881509818</td>\n",
       "      <td>David Briner</td>\n",
       "      <td>[0, 0]</td>\n",
       "      <td>This came in on time and I am veru happy with ...</td>\n",
       "      <td>5.0</td>\n",
       "      <td>Woks very good</td>\n",
       "      <td>1390694400</td>\n",
       "      <td>01 26, 2014</td>\n",
       "    </tr>\n",
       "    <tr>\n",
       "      <th>1</th>\n",
       "      <td>A1L5P841VIO02V</td>\n",
       "      <td>1881509818</td>\n",
       "      <td>Jason A. Kramer</td>\n",
       "      <td>[1, 1]</td>\n",
       "      <td>I had a factory Glock tool that I was using fo...</td>\n",
       "      <td>5.0</td>\n",
       "      <td>Works as well as the factory tool</td>\n",
       "      <td>1328140800</td>\n",
       "      <td>02 2, 2012</td>\n",
       "    </tr>\n",
       "    <tr>\n",
       "      <th>2</th>\n",
       "      <td>AB2W04NI4OEAD</td>\n",
       "      <td>1881509818</td>\n",
       "      <td>J. Fernald</td>\n",
       "      <td>[2, 2]</td>\n",
       "      <td>If you don't have a 3/32 punch or would like t...</td>\n",
       "      <td>4.0</td>\n",
       "      <td>It's a punch, that's all.</td>\n",
       "      <td>1330387200</td>\n",
       "      <td>02 28, 2012</td>\n",
       "    </tr>\n",
       "  </tbody>\n",
       "</table>\n",
       "</div>"
      ],
      "text/plain": [
       "       reviewerID        asin     reviewerName helpful  \\\n",
       "0    AIXZKN4ACSKI  1881509818     David Briner  [0, 0]   \n",
       "1  A1L5P841VIO02V  1881509818  Jason A. Kramer  [1, 1]   \n",
       "2   AB2W04NI4OEAD  1881509818       J. Fernald  [2, 2]   \n",
       "\n",
       "                                          reviewText  overall  \\\n",
       "0  This came in on time and I am veru happy with ...      5.0   \n",
       "1  I had a factory Glock tool that I was using fo...      5.0   \n",
       "2  If you don't have a 3/32 punch or would like t...      4.0   \n",
       "\n",
       "                             summary  unixReviewTime   reviewTime  \n",
       "0                     Woks very good      1390694400  01 26, 2014  \n",
       "1  Works as well as the factory tool      1328140800   02 2, 2012  \n",
       "2          It's a punch, that's all.      1330387200  02 28, 2012  "
      ]
     },
     "execution_count": 7,
     "metadata": {},
     "output_type": "execute_result"
    }
   ],
   "source": [
    "sports_outdoors[:3]"
   ]
  },
  {
   "cell_type": "markdown",
   "metadata": {},
   "source": [
    "* **Reformat** $\\underline{datetime}$ from raw form."
   ]
  },
  {
   "cell_type": "code",
   "execution_count": 8,
   "metadata": {},
   "outputs": [],
   "source": [
    "sports_outdoors[\"reviewTime\"] = pd.to_datetime(sports_outdoors[\"reviewTime\"])"
   ]
  },
  {
   "cell_type": "markdown",
   "metadata": {},
   "source": [
    "* **Rearrange** the left-to-right by relevance"
   ]
  },
  {
   "cell_type": "code",
   "execution_count": 9,
   "metadata": {},
   "outputs": [],
   "source": [
    "sports_outdoors = sports_outdoors[['asin', 'summary', 'reviewText', 'overall', 'reviewerID', 'reviewerName', 'helpful', 'reviewTime',\n",
    "      'unixReviewTime']]"
   ]
  },
  {
   "cell_type": "code",
   "execution_count": 10,
   "metadata": {},
   "outputs": [
    {
     "data": {
      "text/html": [
       "<div>\n",
       "<style scoped>\n",
       "    .dataframe tbody tr th:only-of-type {\n",
       "        vertical-align: middle;\n",
       "    }\n",
       "\n",
       "    .dataframe tbody tr th {\n",
       "        vertical-align: top;\n",
       "    }\n",
       "\n",
       "    .dataframe thead th {\n",
       "        text-align: right;\n",
       "    }\n",
       "</style>\n",
       "<table border=\"1\" class=\"dataframe\">\n",
       "  <thead>\n",
       "    <tr style=\"text-align: right;\">\n",
       "      <th></th>\n",
       "      <th>asin</th>\n",
       "      <th>summary</th>\n",
       "      <th>reviewText</th>\n",
       "      <th>overall</th>\n",
       "      <th>reviewerID</th>\n",
       "      <th>reviewerName</th>\n",
       "      <th>helpful</th>\n",
       "      <th>reviewTime</th>\n",
       "      <th>unixReviewTime</th>\n",
       "    </tr>\n",
       "  </thead>\n",
       "  <tbody>\n",
       "    <tr>\n",
       "      <th>0</th>\n",
       "      <td>1881509818</td>\n",
       "      <td>Woks very good</td>\n",
       "      <td>This came in on time and I am veru happy with ...</td>\n",
       "      <td>5.0</td>\n",
       "      <td>AIXZKN4ACSKI</td>\n",
       "      <td>David Briner</td>\n",
       "      <td>[0, 0]</td>\n",
       "      <td>2014-01-26</td>\n",
       "      <td>1390694400</td>\n",
       "    </tr>\n",
       "    <tr>\n",
       "      <th>1</th>\n",
       "      <td>1881509818</td>\n",
       "      <td>Works as well as the factory tool</td>\n",
       "      <td>I had a factory Glock tool that I was using fo...</td>\n",
       "      <td>5.0</td>\n",
       "      <td>A1L5P841VIO02V</td>\n",
       "      <td>Jason A. Kramer</td>\n",
       "      <td>[1, 1]</td>\n",
       "      <td>2012-02-02</td>\n",
       "      <td>1328140800</td>\n",
       "    </tr>\n",
       "    <tr>\n",
       "      <th>2</th>\n",
       "      <td>1881509818</td>\n",
       "      <td>It's a punch, that's all.</td>\n",
       "      <td>If you don't have a 3/32 punch or would like t...</td>\n",
       "      <td>4.0</td>\n",
       "      <td>AB2W04NI4OEAD</td>\n",
       "      <td>J. Fernald</td>\n",
       "      <td>[2, 2]</td>\n",
       "      <td>2012-02-28</td>\n",
       "      <td>1330387200</td>\n",
       "    </tr>\n",
       "  </tbody>\n",
       "</table>\n",
       "</div>"
      ],
      "text/plain": [
       "         asin                            summary  \\\n",
       "0  1881509818                     Woks very good   \n",
       "1  1881509818  Works as well as the factory tool   \n",
       "2  1881509818          It's a punch, that's all.   \n",
       "\n",
       "                                          reviewText  overall      reviewerID  \\\n",
       "0  This came in on time and I am veru happy with ...      5.0    AIXZKN4ACSKI   \n",
       "1  I had a factory Glock tool that I was using fo...      5.0  A1L5P841VIO02V   \n",
       "2  If you don't have a 3/32 punch or would like t...      4.0   AB2W04NI4OEAD   \n",
       "\n",
       "      reviewerName helpful reviewTime  unixReviewTime  \n",
       "0     David Briner  [0, 0] 2014-01-26      1390694400  \n",
       "1  Jason A. Kramer  [1, 1] 2012-02-02      1328140800  \n",
       "2       J. Fernald  [2, 2] 2012-02-28      1330387200  "
      ]
     },
     "execution_count": 10,
     "metadata": {},
     "output_type": "execute_result"
    }
   ],
   "source": [
    "sports_outdoors.head(3)"
   ]
  },
  {
   "cell_type": "code",
   "execution_count": 11,
   "metadata": {},
   "outputs": [
    {
     "data": {
      "text/html": [
       "<div>\n",
       "<style scoped>\n",
       "    .dataframe tbody tr th:only-of-type {\n",
       "        vertical-align: middle;\n",
       "    }\n",
       "\n",
       "    .dataframe tbody tr th {\n",
       "        vertical-align: top;\n",
       "    }\n",
       "\n",
       "    .dataframe thead th {\n",
       "        text-align: right;\n",
       "    }\n",
       "</style>\n",
       "<table border=\"1\" class=\"dataframe\">\n",
       "  <thead>\n",
       "    <tr style=\"text-align: right;\">\n",
       "      <th></th>\n",
       "      <th>asin</th>\n",
       "      <th>summary</th>\n",
       "      <th>reviewText</th>\n",
       "      <th>overall</th>\n",
       "      <th>reviewerID</th>\n",
       "      <th>reviewerName</th>\n",
       "      <th>helpful</th>\n",
       "      <th>reviewTime</th>\n",
       "      <th>unixReviewTime</th>\n",
       "    </tr>\n",
       "  </thead>\n",
       "  <tbody>\n",
       "    <tr>\n",
       "      <th>296334</th>\n",
       "      <td>B00LFPS0CY</td>\n",
       "      <td>\"Great Water Bottle For Hot Day\"......</td>\n",
       "      <td>This Hydracentials Sporty 25 OZ, double insula...</td>\n",
       "      <td>5.0</td>\n",
       "      <td>ASKZO80Z1RKTR</td>\n",
       "      <td>Robin Lee</td>\n",
       "      <td>[0, 0]</td>\n",
       "      <td>2014-07-21</td>\n",
       "      <td>1405900800</td>\n",
       "    </tr>\n",
       "    <tr>\n",
       "      <th>296335</th>\n",
       "      <td>B00LFPS0CY</td>\n",
       "      <td>A pretty impressive water bottle.  Best I've s...</td>\n",
       "      <td>As usual I received this item free in exchange...</td>\n",
       "      <td>5.0</td>\n",
       "      <td>APRNS6DB68LLV</td>\n",
       "      <td>Rob Slaven \"slavenrm@gmail. com\"</td>\n",
       "      <td>[1, 1]</td>\n",
       "      <td>2014-07-21</td>\n",
       "      <td>1405900800</td>\n",
       "    </tr>\n",
       "    <tr>\n",
       "      <th>296336</th>\n",
       "      <td>B00LFPS0CY</td>\n",
       "      <td>\"Cool\" Bottle!</td>\n",
       "      <td>Hydracentials insulated 25 oz water bottle.Thi...</td>\n",
       "      <td>5.0</td>\n",
       "      <td>A3UJRNI8UR4871</td>\n",
       "      <td>Wulfstan \"wulfstan\"</td>\n",
       "      <td>[2, 2]</td>\n",
       "      <td>2014-07-15</td>\n",
       "      <td>1405382400</td>\n",
       "    </tr>\n",
       "  </tbody>\n",
       "</table>\n",
       "</div>"
      ],
      "text/plain": [
       "              asin                                            summary  \\\n",
       "296334  B00LFPS0CY             \"Great Water Bottle For Hot Day\"......   \n",
       "296335  B00LFPS0CY  A pretty impressive water bottle.  Best I've s...   \n",
       "296336  B00LFPS0CY                                     \"Cool\" Bottle!   \n",
       "\n",
       "                                               reviewText  overall  \\\n",
       "296334  This Hydracentials Sporty 25 OZ, double insula...      5.0   \n",
       "296335  As usual I received this item free in exchange...      5.0   \n",
       "296336  Hydracentials insulated 25 oz water bottle.Thi...      5.0   \n",
       "\n",
       "            reviewerID                      reviewerName helpful reviewTime  \\\n",
       "296334   ASKZO80Z1RKTR                         Robin Lee  [0, 0] 2014-07-21   \n",
       "296335   APRNS6DB68LLV  Rob Slaven \"slavenrm@gmail. com\"  [1, 1] 2014-07-21   \n",
       "296336  A3UJRNI8UR4871               Wulfstan \"wulfstan\"  [2, 2] 2014-07-15   \n",
       "\n",
       "        unixReviewTime  \n",
       "296334      1405900800  \n",
       "296335      1405900800  \n",
       "296336      1405382400  "
      ]
     },
     "execution_count": 11,
     "metadata": {},
     "output_type": "execute_result"
    }
   ],
   "source": [
    "sports_outdoors.tail(3)"
   ]
  },
  {
   "cell_type": "markdown",
   "metadata": {},
   "source": [
    "---\n",
    "## Number of Reviews by Unique Products [`asin`]"
   ]
  },
  {
   "cell_type": "code",
   "execution_count": 12,
   "metadata": {},
   "outputs": [
    {
     "name": "stdout",
     "output_type": "stream",
     "text": [
      "Number of Unique Products in the Sports & Outdoors Category = 18357\n"
     ]
    }
   ],
   "source": [
    "products = sports_outdoors['overall'].groupby(sports_outdoors['asin']).count()\n",
    "print(\"Number of Unique Products in the Sports & Outdoors Category = {}\".format(products.count()))"
   ]
  },
  {
   "cell_type": "markdown",
   "metadata": {},
   "source": [
    "**Top 20 Reviewed Products**"
   ]
  },
  {
   "cell_type": "code",
   "execution_count": 13,
   "metadata": {},
   "outputs": [
    {
     "name": "stdout",
     "output_type": "stream",
     "text": [
      "Top 20 Reviewed Products:\n",
      "\n",
      "asin\n",
      "B001HBHNHE    1042\n",
      "B001T7QJ9O     763\n",
      "B000S5ODN2     647\n",
      "B0010O748Q     513\n",
      "B0000C50K3     427\n",
      "B002ZYRV2E     401\n",
      "B002OKWHVO     398\n",
      "B000GCRWCG     393\n",
      "B001HBHNHY     372\n",
      "B0035L35A8     359\n",
      "B004U8CP88     357\n",
      "B001WJ577O     355\n",
      "B004TNWD40     349\n",
      "B006X9DLQM     344\n",
      "B00178CS4K     343\n",
      "B006QF3TW4     323\n",
      "B003NFI092     309\n",
      "B00200E0HM     307\n",
      "B001949TKS     298\n",
      "B000JZ7JM8     293\n",
      "Name: overall, dtype: int64\n",
      "\n",
      "Most Reviewed Product, B001HBHNHE - has 1042 reviews.\n"
     ]
    }
   ],
   "source": [
    "sorted_products = products.sort_values(ascending=False)\n",
    "\n",
    "print(\"Top 20 Reviewed Products:\\n\")\n",
    "print(sorted_products[:20], end='\\n\\n')\n",
    "print('Most Reviewed Product, B001HBHNHE - has {} reviews.'.format(products.max()))"
   ]
  },
  {
   "cell_type": "markdown",
   "metadata": {},
   "source": [
    "## $\\underline{Most\\ Reviewed}$ is a _9mm Pistol Magazine Loader_\n",
    "[Amazon Product listing](https://www.amazon.com/Maglula-UpLULA-Magazine-Loader-9mm-45/dp/B001HBHNHE)\n",
    "\n",
    "![pink mag](img/pink-mag.jpg)"
   ]
  },
  {
   "cell_type": "markdown",
   "metadata": {},
   "source": [
    "# $$That's\\ about\\ as\\ 'Merica\\ as\\ it\\ gits!$$\n",
    "\n",
    "![Merica flag](img/Merica.gif)\n",
    "---"
   ]
  },
  {
   "cell_type": "code",
   "execution_count": 14,
   "metadata": {},
   "outputs": [
    {
     "data": {
      "text/plain": [
       "asin\n",
       "B000NNR93A    9\n",
       "Name: overall, dtype: int64"
      ]
     },
     "execution_count": 14,
     "metadata": {},
     "output_type": "execute_result"
    }
   ],
   "source": [
    "sorted_products[9178:9179]"
   ]
  },
  {
   "cell_type": "markdown",
   "metadata": {},
   "source": [
    "## $\\underline{Middle-of-the-Road}$ is a _9-Speed Cassette for a Bicycle_\n",
    "[Amazon Product listing](https://www.amazon.com/SRAM-PG950-9-Speed-Cassette-12-26T/dp/B000NNR93A/ref=sr_1_1?s=sporting-goods&ie=UTF8&qid=1481675376&sr=1-1&keywords=B000NNR93A)\n",
    "\n",
    "![(9-speed-casstte](img/9-speed-cassette.jpg)\n",
    "\n",
    "---"
   ]
  },
  {
   "cell_type": "markdown",
   "metadata": {},
   "source": [
    "**Bottom 20 Reviewed Products**"
   ]
  },
  {
   "cell_type": "code",
   "execution_count": 15,
   "metadata": {},
   "outputs": [
    {
     "name": "stdout",
     "output_type": "stream",
     "text": [
      "Bottom 20 Reviewed Products:\n",
      "\n",
      "asin\n",
      "B003VN1U7K    5\n",
      "B003VZIWZQ    5\n",
      "B00BFXAIEY    5\n",
      "B000T1VZCW    5\n",
      "B000TH4MMG    5\n",
      "B003XDWY32    5\n",
      "B000T29STI    5\n",
      "B003WXR992    5\n",
      "B003WXJOEA    5\n",
      "B000TAADTO    5\n",
      "B00BGI7R38    5\n",
      "B003WHHXAS    5\n",
      "B000TTR0JG    5\n",
      "B003WHA1N4    5\n",
      "B000TRKTUK    5\n",
      "B000TTHVYA    5\n",
      "B003WGUEEG    5\n",
      "B000TTM3OI    5\n",
      "B003WDTI78    5\n",
      "B003Z6HUZE    5\n",
      "Name: overall, dtype: int64\n",
      "\n",
      "Least Reviewed Product (Sorted), B003Z6HUZE - has 5 reviews.\n"
     ]
    }
   ],
   "source": [
    "print(\"Bottom 20 Reviewed Products:\\n\")\n",
    "print(sorted_products[18337:], end='\\n\\n')\n",
    "print('Least Reviewed Product (Sorted), B003Z6HUZE - has {} reviews.'.format(products.min()))"
   ]
  },
  {
   "cell_type": "markdown",
   "metadata": {},
   "source": [
    "# $\\underline{Least\\ Reviewed}$ is a _2-Position Web Nylon Knife Sheath_\n",
    "[Amazon Product listing](https://www.amazon.com/2-Position-Nylon-Knife-Sheath-3-Inch/dp/B003Z6HUZE/ref=sr_1_1?s=sporting-goods&ie=UTF8&qid=1481675692&sr=1-1&keywords=B003Z6HUZE)\n",
    "\n",
    "![Web Nlyon Knife Sheath](img/ruko.jpg)\n",
    "---"
   ]
  },
  {
   "cell_type": "markdown",
   "metadata": {},
   "source": [
    "## $\\underline{Most\\ Common\\ Amount\\ of\\ Reviews} -->$ $5$ Reviews"
   ]
  },
  {
   "cell_type": "code",
   "execution_count": 18,
   "metadata": {},
   "outputs": [
    {
     "data": {
      "text/plain": [
       "0    5\n",
       "dtype: int64"
      ]
     },
     "execution_count": 18,
     "metadata": {},
     "output_type": "execute_result"
    }
   ],
   "source": [
    "products.mode()"
   ]
  },
  {
   "cell_type": "markdown",
   "metadata": {},
   "source": [
    "---\n",
    "## Preprocessing:\n",
    "### `Remove punctuations, stopwords, and lemmatize`"
   ]
  },
  {
   "cell_type": "code",
   "execution_count": 19,
   "metadata": {},
   "outputs": [
    {
     "data": {
      "text/plain": [
       "0     This came in on time and I am veru happy with ...\n",
       "1     I had a factory Glock tool that I was using fo...\n",
       "2     If you don't have a 3/32 punch or would like t...\n",
       "3     This works no better than any 3/32 punch you w...\n",
       "4     I purchased this thinking maybe I need a speci...\n",
       "5     Needed this tool to really break down my G22, ...\n",
       "6     If u don't have it .. Get it. All you need to ...\n",
       "7     This light will no doubt capture the attention...\n",
       "8     Light and laser torch work well, very bright. ...\n",
       "9     Does everything it says it will do. I would li...\n",
       "10    Very bright.  I would recommend this lite to a...\n",
       "Name: reviewText, dtype: object"
      ]
     },
     "execution_count": 19,
     "metadata": {},
     "output_type": "execute_result"
    }
   ],
   "source": [
    "sports_outdoors['reviewText'][:11]"
   ]
  },
  {
   "cell_type": "code",
   "execution_count": 20,
   "metadata": {},
   "outputs": [],
   "source": [
    "reviews = sports_outdoors['reviewText']"
   ]
  },
  {
   "cell_type": "code",
   "execution_count": 21,
   "metadata": {},
   "outputs": [
    {
     "data": {
      "text/plain": [
       "296337"
      ]
     },
     "execution_count": 21,
     "metadata": {},
     "output_type": "execute_result"
    }
   ],
   "source": [
    "reviews.count()"
   ]
  },
  {
   "cell_type": "code",
   "execution_count": 22,
   "metadata": {},
   "outputs": [],
   "source": [
    "stops = stopwords.words('english')"
   ]
  },
  {
   "cell_type": "code",
   "execution_count": 23,
   "metadata": {},
   "outputs": [],
   "source": [
    "def tokenize(text):\n",
    "    tokenized = word_tokenize(text)\n",
    "    no_punc = []\n",
    "    for review in tokenized:\n",
    "        line = \"\".join(char for char in review if char not in string.punctuation)\n",
    "        no_punc.append(line)\n",
    "    tokens = lemmatize(no_punc)\n",
    "    return tokens\n",
    "\n",
    "\n",
    "def lemmatize(tokens):\n",
    "    lmtzr = WordNetLemmatizer()\n",
    "    lemma = [lmtzr.lemmatize(t) for t in tokens]\n",
    "    return lemma"
   ]
  },
  {
   "cell_type": "code",
   "execution_count": 24,
   "metadata": {},
   "outputs": [],
   "source": [
    "reviews = reviews.apply(lambda x: tokenize(x))"
   ]
  },
  {
   "cell_type": "code",
   "execution_count": 25,
   "metadata": {},
   "outputs": [
    {
     "data": {
      "text/plain": [
       "0     [This, came, in, on, time, and, I, am, veru, h...\n",
       "1     [I, had, a, factory, Glock, tool, that, I, wa,...\n",
       "2     [If, you, do, nt, have, a, 332, punch, or, wou...\n",
       "3     [This, work, no, better, than, any, 332, punch...\n",
       "4     [I, purchased, this, thinking, maybe, I, need,...\n",
       "5     [Needed, this, tool, to, really, break, down, ...\n",
       "6     [If, u, do, nt, have, it, , Get, it, , All, yo...\n",
       "7     [This, light, will, no, doubt, capture, the, a...\n",
       "8     [Light, and, laser, torch, work, well, , very,...\n",
       "9     [Does, everything, it, say, it, will, do, , I,...\n",
       "10    [Very, bright, , I, would, recommend, this, li...\n",
       "Name: reviewText, dtype: object"
      ]
     },
     "execution_count": 25,
     "metadata": {},
     "output_type": "execute_result"
    }
   ],
   "source": [
    "reviews[:11]"
   ]
  },
  {
   "cell_type": "markdown",
   "metadata": {},
   "source": [
    "---\n",
    "# Part II Modeling\n",
    "---\n",
    "## Model data\n",
    "\n",
    "> **[ 1 ]** Classification / Sentiment Analysis ( Logistic Regression, MultinomialNB )\n",
    "\n",
    "> **[ 2 ]** Clustering / Topic Modeling ( NMF and Lda )"
   ]
  },
  {
   "cell_type": "markdown",
   "metadata": {},
   "source": [
    "# `Classification / Sentiment Analysis (LogReg, Multinomial)`"
   ]
  },
  {
   "cell_type": "code",
   "execution_count": 26,
   "metadata": {},
   "outputs": [],
   "source": [
    "cloud = wordcloud.WordCloud(background_color='gray', max_font_size=60, \n",
    "                                relative_scaling=1).generate(' '.join(sports_outdoors.reviewText))"
   ]
  },
  {
   "cell_type": "code",
   "execution_count": 27,
   "metadata": {
    "scrolled": false
   },
   "outputs": [
    {
     "data": {
      "image/png": "[encoded data removed]",
      "text/plain": [
       "<Figure size 1440x720 with 1 Axes>"
      ]
     },
     "metadata": {
      "needs_background": "light"
     },
     "output_type": "display_data"
    }
   ],
   "source": [
    "fig = plt.figure(figsize=(20, 10))\n",
    "plt.axis('off')\n",
    "plt.imshow(cloud);"
   ]
  },
  {
   "cell_type": "code",
   "execution_count": 28,
   "metadata": {},
   "outputs": [
    {
     "data": {
      "text/html": [
       "<div>\n",
       "<style scoped>\n",
       "    .dataframe tbody tr th:only-of-type {\n",
       "        vertical-align: middle;\n",
       "    }\n",
       "\n",
       "    .dataframe tbody tr th {\n",
       "        vertical-align: top;\n",
       "    }\n",
       "\n",
       "    .dataframe thead th {\n",
       "        text-align: right;\n",
       "    }\n",
       "</style>\n",
       "<table border=\"1\" class=\"dataframe\">\n",
       "  <thead>\n",
       "    <tr style=\"text-align: right;\">\n",
       "      <th></th>\n",
       "      <th>asin</th>\n",
       "      <th>summary</th>\n",
       "      <th>reviewText</th>\n",
       "      <th>overall</th>\n",
       "      <th>reviewerID</th>\n",
       "      <th>reviewerName</th>\n",
       "      <th>helpful</th>\n",
       "      <th>reviewTime</th>\n",
       "      <th>unixReviewTime</th>\n",
       "    </tr>\n",
       "  </thead>\n",
       "  <tbody>\n",
       "    <tr>\n",
       "      <th>0</th>\n",
       "      <td>1881509818</td>\n",
       "      <td>Woks very good</td>\n",
       "      <td>This came in on time and I am veru happy with ...</td>\n",
       "      <td>5.0</td>\n",
       "      <td>AIXZKN4ACSKI</td>\n",
       "      <td>David Briner</td>\n",
       "      <td>[0, 0]</td>\n",
       "      <td>2014-01-26</td>\n",
       "      <td>1390694400</td>\n",
       "    </tr>\n",
       "    <tr>\n",
       "      <th>1</th>\n",
       "      <td>1881509818</td>\n",
       "      <td>Works as well as the factory tool</td>\n",
       "      <td>I had a factory Glock tool that I was using fo...</td>\n",
       "      <td>5.0</td>\n",
       "      <td>A1L5P841VIO02V</td>\n",
       "      <td>Jason A. Kramer</td>\n",
       "      <td>[1, 1]</td>\n",
       "      <td>2012-02-02</td>\n",
       "      <td>1328140800</td>\n",
       "    </tr>\n",
       "    <tr>\n",
       "      <th>2</th>\n",
       "      <td>1881509818</td>\n",
       "      <td>It's a punch, that's all.</td>\n",
       "      <td>If you don't have a 3/32 punch or would like t...</td>\n",
       "      <td>4.0</td>\n",
       "      <td>AB2W04NI4OEAD</td>\n",
       "      <td>J. Fernald</td>\n",
       "      <td>[2, 2]</td>\n",
       "      <td>2012-02-28</td>\n",
       "      <td>1330387200</td>\n",
       "    </tr>\n",
       "  </tbody>\n",
       "</table>\n",
       "</div>"
      ],
      "text/plain": [
       "         asin                            summary  \\\n",
       "0  1881509818                     Woks very good   \n",
       "1  1881509818  Works as well as the factory tool   \n",
       "2  1881509818          It's a punch, that's all.   \n",
       "\n",
       "                                          reviewText  overall      reviewerID  \\\n",
       "0  This came in on time and I am veru happy with ...      5.0    AIXZKN4ACSKI   \n",
       "1  I had a factory Glock tool that I was using fo...      5.0  A1L5P841VIO02V   \n",
       "2  If you don't have a 3/32 punch or would like t...      4.0   AB2W04NI4OEAD   \n",
       "\n",
       "      reviewerName helpful reviewTime  unixReviewTime  \n",
       "0     David Briner  [0, 0] 2014-01-26      1390694400  \n",
       "1  Jason A. Kramer  [1, 1] 2012-02-02      1328140800  \n",
       "2       J. Fernald  [2, 2] 2012-02-28      1330387200  "
      ]
     },
     "execution_count": 28,
     "metadata": {},
     "output_type": "execute_result"
    }
   ],
   "source": [
    "sports_outdoors[:3]"
   ]
  },
  {
   "cell_type": "markdown",
   "metadata": {},
   "source": [
    "### Insert `pos_neg` column for Sentiment modeling\n",
    "\n",
    "         Negative reviews:      1-3 Stars  = 0\n",
    "         Positive reviews:      4-5 Stars  = 1\n",
    "\n",
    "   ![star](img/amazon-stars.png)"
   ]
  },
  {
   "cell_type": "code",
   "execution_count": 29,
   "metadata": {},
   "outputs": [],
   "source": [
    "sports_outdoors['pos_neg'] = [1 if x > 3 else 0 for x in sports_outdoors.overall]"
   ]
  },
  {
   "cell_type": "code",
   "execution_count": 30,
   "metadata": {},
   "outputs": [
    {
     "data": {
      "text/html": [
       "<div>\n",
       "<style scoped>\n",
       "    .dataframe tbody tr th:only-of-type {\n",
       "        vertical-align: middle;\n",
       "    }\n",
       "\n",
       "    .dataframe tbody tr th {\n",
       "        vertical-align: top;\n",
       "    }\n",
       "\n",
       "    .dataframe thead th {\n",
       "        text-align: right;\n",
       "    }\n",
       "</style>\n",
       "<table border=\"1\" class=\"dataframe\">\n",
       "  <thead>\n",
       "    <tr style=\"text-align: right;\">\n",
       "      <th></th>\n",
       "      <th>asin</th>\n",
       "      <th>summary</th>\n",
       "      <th>reviewText</th>\n",
       "      <th>overall</th>\n",
       "      <th>reviewerID</th>\n",
       "      <th>reviewerName</th>\n",
       "      <th>helpful</th>\n",
       "      <th>reviewTime</th>\n",
       "      <th>unixReviewTime</th>\n",
       "      <th>pos_neg</th>\n",
       "    </tr>\n",
       "  </thead>\n",
       "  <tbody>\n",
       "    <tr>\n",
       "      <th>0</th>\n",
       "      <td>1881509818</td>\n",
       "      <td>Woks very good</td>\n",
       "      <td>This came in on time and I am veru happy with ...</td>\n",
       "      <td>5.0</td>\n",
       "      <td>AIXZKN4ACSKI</td>\n",
       "      <td>David Briner</td>\n",
       "      <td>[0, 0]</td>\n",
       "      <td>2014-01-26</td>\n",
       "      <td>1390694400</td>\n",
       "      <td>1</td>\n",
       "    </tr>\n",
       "    <tr>\n",
       "      <th>1</th>\n",
       "      <td>1881509818</td>\n",
       "      <td>Works as well as the factory tool</td>\n",
       "      <td>I had a factory Glock tool that I was using fo...</td>\n",
       "      <td>5.0</td>\n",
       "      <td>A1L5P841VIO02V</td>\n",
       "      <td>Jason A. Kramer</td>\n",
       "      <td>[1, 1]</td>\n",
       "      <td>2012-02-02</td>\n",
       "      <td>1328140800</td>\n",
       "      <td>1</td>\n",
       "    </tr>\n",
       "    <tr>\n",
       "      <th>2</th>\n",
       "      <td>1881509818</td>\n",
       "      <td>It's a punch, that's all.</td>\n",
       "      <td>If you don't have a 3/32 punch or would like t...</td>\n",
       "      <td>4.0</td>\n",
       "      <td>AB2W04NI4OEAD</td>\n",
       "      <td>J. Fernald</td>\n",
       "      <td>[2, 2]</td>\n",
       "      <td>2012-02-28</td>\n",
       "      <td>1330387200</td>\n",
       "      <td>1</td>\n",
       "    </tr>\n",
       "  </tbody>\n",
       "</table>\n",
       "</div>"
      ],
      "text/plain": [
       "         asin                            summary  \\\n",
       "0  1881509818                     Woks very good   \n",
       "1  1881509818  Works as well as the factory tool   \n",
       "2  1881509818          It's a punch, that's all.   \n",
       "\n",
       "                                          reviewText  overall      reviewerID  \\\n",
       "0  This came in on time and I am veru happy with ...      5.0    AIXZKN4ACSKI   \n",
       "1  I had a factory Glock tool that I was using fo...      5.0  A1L5P841VIO02V   \n",
       "2  If you don't have a 3/32 punch or would like t...      4.0   AB2W04NI4OEAD   \n",
       "\n",
       "      reviewerName helpful reviewTime  unixReviewTime  pos_neg  \n",
       "0     David Briner  [0, 0] 2014-01-26      1390694400        1  \n",
       "1  Jason A. Kramer  [1, 1] 2012-02-02      1328140800        1  \n",
       "2       J. Fernald  [2, 2] 2012-02-28      1330387200        1  "
      ]
     },
     "execution_count": 30,
     "metadata": {},
     "output_type": "execute_result"
    }
   ],
   "source": [
    "sports_outdoors.head(3)"
   ]
  },
  {
   "cell_type": "code",
   "execution_count": 31,
   "metadata": {},
   "outputs": [],
   "source": [
    "review_text = sports_outdoors[\"reviewText\"]"
   ]
  },
  {
   "cell_type": "markdown",
   "metadata": {},
   "source": [
    "### Train/Test Split"
   ]
  },
  {
   "cell_type": "code",
   "execution_count": 32,
   "metadata": {},
   "outputs": [],
   "source": [
    "x_train, x_test, y_train, y_test = train_test_split(sports_outdoors.reviewText, sports_outdoors.pos_neg, random_state=0)"
   ]
  },
  {
   "cell_type": "code",
   "execution_count": 33,
   "metadata": {},
   "outputs": [
    {
     "name": "stdout",
     "output_type": "stream",
     "text": [
      "x_train shape: (222252,)\n",
      "y_train shape: (222252,)\n",
      "\n",
      "x_test shape: (74085,)\n",
      "y_test shape: (74085,)\n",
      "\n"
     ]
    }
   ],
   "source": [
    "print(\"x_train shape: {}\".format(x_train.shape), end='\\n')\n",
    "print(\"y_train shape: {}\".format(y_train.shape), end='\\n\\n')\n",
    "print(\"x_test shape: {}\".format(x_test.shape), end='\\n')\n",
    "print(\"y_test shape: {}\".format(y_test.shape), end='\\n\\n')"
   ]
  },
  {
   "cell_type": "markdown",
   "metadata": {},
   "source": [
    "---\n",
    "# `Logistic Regression`"
   ]
  },
  {
   "cell_type": "markdown",
   "metadata": {},
   "source": [
    "## `CountVectorizer`"
   ]
  },
  {
   "cell_type": "code",
   "execution_count": 34,
   "metadata": {},
   "outputs": [
    {
     "name": "stdout",
     "output_type": "stream",
     "text": [
      "X_train:\n",
      "<222252x28733 sparse matrix of type '<class 'numpy.int64'>'\n",
      "\twith 12428687 stored elements in Compressed Sparse Row format>\n"
     ]
    }
   ],
   "source": [
    "# Vectorize X_train\n",
    "vectorizer = CountVectorizer(min_df=5).fit(x_train)\n",
    "X_train = vectorizer.transform(x_train)\n",
    "print(\"X_train:\\n{}\".format(repr(X_train)))"
   ]
  },
  {
   "cell_type": "code",
   "execution_count": 35,
   "metadata": {},
   "outputs": [
    {
     "name": "stdout",
     "output_type": "stream",
     "text": [
      "Number of features: 28733\n"
     ]
    }
   ],
   "source": [
    "feature_names = vectorizer.get_feature_names()\n",
    "print(\"Number of features: {}\".format(len(feature_names)))"
   ]
  },
  {
   "cell_type": "markdown",
   "metadata": {},
   "source": [
    "---\n",
    "## Logistic Regression \n",
    "### on Training data"
   ]
  },
  {
   "cell_type": "code",
   "execution_count": 36,
   "metadata": {},
   "outputs": [
    {
     "name": "stderr",
     "output_type": "stream",
     "text": [
      "C:\\Users\\ASUS\\Anaconda3\\lib\\site-packages\\sklearn\\linear_model\\logistic.py:433: FutureWarning: Default solver will be changed to 'lbfgs' in 0.22. Specify a solver to silence this warning.\n",
      "  FutureWarning)\n",
      "C:\\Users\\ASUS\\Anaconda3\\lib\\site-packages\\sklearn\\svm\\base.py:922: ConvergenceWarning: Liblinear failed to converge, increase the number of iterations.\n",
      "  \"the number of iterations.\", ConvergenceWarning)\n"
     ]
    }
   ],
   "source": [
    "scores = cross_val_score(LogisticRegression(), X_train, y_train, cv=5)"
   ]
  },
  {
   "cell_type": "code",
   "execution_count": 37,
   "metadata": {},
   "outputs": [
    {
     "name": "stdout",
     "output_type": "stream",
     "text": [
      "Mean cross-validation accuracy: 0.888\n"
     ]
    }
   ],
   "source": [
    "print(\"Mean cross-validation accuracy: {:.3f}\".format(np.mean(scores)))"
   ]
  },
  {
   "cell_type": "markdown",
   "metadata": {},
   "source": [
    "---"
   ]
  },
  {
   "cell_type": "code",
   "execution_count": 38,
   "metadata": {},
   "outputs": [],
   "source": [
    "logreg = LogisticRegression(C=0.1).fit(X_train, y_train)\n",
    "\n",
    "X_test = vectorizer.transform(x_test)\n",
    "\n",
    "log_y_pred = logreg.predict(X_test)"
   ]
  },
  {
   "cell_type": "code",
   "execution_count": 39,
   "metadata": {},
   "outputs": [
    {
     "name": "stdout",
     "output_type": "stream",
     "text": [
      "Accuracy:   0.890\n"
     ]
    }
   ],
   "source": [
    "logreg_score = accuracy_score(y_test, log_y_pred)\n",
    "print(\"Accuracy:   {:.3f}\".format(logreg_score))"
   ]
  },
  {
   "cell_type": "code",
   "execution_count": 40,
   "metadata": {},
   "outputs": [
    {
     "name": "stdout",
     "output_type": "stream",
     "text": [
      "Training set score: 0.907\n",
      "Test set score: 0.890\n"
     ]
    }
   ],
   "source": [
    "print(\"Training set score: {:.3f}\".format(logreg.score(X_train, y_train)))\n",
    "print(\"Test set score: {:.3f}\".format(logreg.score(X_test, y_test))) "
   ]
  },
  {
   "cell_type": "code",
   "execution_count": 41,
   "metadata": {},
   "outputs": [
    {
     "name": "stdout",
     "output_type": "stream",
     "text": [
      "Confusion matrix:\n",
      "[[ 4644  6290]\n",
      " [ 1830 61321]]\n",
      "\n",
      "---------------\n",
      "[['TN' 'FP']\n",
      " ['FN' 'TP']]\n"
     ]
    }
   ],
   "source": [
    "log_cfm = confusion_matrix(y_test, log_y_pred)\n",
    "print(\"Confusion matrix:\")\n",
    "print(log_cfm, end='\\n\\n')\n",
    "print('-'*15)\n",
    "print(np.array([['TN', 'FP'],[ 'FN' , 'TP']]))"
   ]
  },
  {
   "cell_type": "code",
   "execution_count": 42,
   "metadata": {},
   "outputs": [
    {
     "data": {
      "image/png": "[encoded data removed]",
      "text/plain": [
       "<Figure size 432x288 with 2 Axes>"
      ]
     },
     "metadata": {
      "needs_background": "light"
     },
     "output_type": "display_data"
    }
   ],
   "source": [
    "plt.imshow(log_cfm, interpolation='nearest')\n",
    "\n",
    "for i, j in itertools.product(range(log_cfm.shape[0]), range(log_cfm.shape[1])):\n",
    "    plt.text(j, i, log_cfm[i, j],\n",
    "             horizontalalignment=\"center\",\n",
    "             color=\"white\")\n",
    "\n",
    "plt.ylabel('True label (Recall)')\n",
    "plt.xlabel('Predicted label (Precision)')\n",
    "plt.title('Logistic Reg | Confusion Matrix')\n",
    "plt.colorbar();"
   ]
  },
  {
   "cell_type": "code",
   "execution_count": 43,
   "metadata": {},
   "outputs": [
    {
     "name": "stdout",
     "output_type": "stream",
     "text": [
      "Logistic Reg - F1 score: 0.938\n"
     ]
    }
   ],
   "source": [
    "log_f1 = f1_score(y_test, log_y_pred)\n",
    "print(\"Logistic Reg - F1 score: {:.3f}\".format(log_f1))"
   ]
  },
  {
   "cell_type": "markdown",
   "metadata": {},
   "source": [
    "### GridSearchCV on $\\underline{Training\\ data}$ to _Increase Performance_"
   ]
  },
  {
   "cell_type": "code",
   "execution_count": 44,
   "metadata": {},
   "outputs": [
    {
     "name": "stderr",
     "output_type": "stream",
     "text": [
      "C:\\Users\\ASUS\\Anaconda3\\lib\\site-packages\\sklearn\\linear_model\\logistic.py:433: FutureWarning: Default solver will be changed to 'lbfgs' in 0.22. Specify a solver to silence this warning.\n",
      "  FutureWarning)\n",
      "C:\\Users\\ASUS\\Anaconda3\\lib\\site-packages\\sklearn\\svm\\base.py:922: ConvergenceWarning: Liblinear failed to converge, increase the number of iterations.\n",
      "  \"the number of iterations.\", ConvergenceWarning)\n"
     ]
    },
    {
     "data": {
      "text/plain": [
       "GridSearchCV(cv=5, error_score='raise-deprecating',\n",
       "       estimator=LogisticRegression(C=1.0, class_weight=None, dual=False, fit_intercept=True,\n",
       "          intercept_scaling=1, max_iter=100, multi_class='warn',\n",
       "          n_jobs=None, penalty='l2', random_state=None, solver='warn',\n",
       "          tol=0.0001, verbose=0, warm_start=False),\n",
       "       fit_params=None, iid='warn', n_jobs=None,\n",
       "       param_grid={'C': [0.001, 0.01, 0.1, 1, 10]},\n",
       "       pre_dispatch='2*n_jobs', refit=True, return_train_score='warn',\n",
       "       scoring=None, verbose=0)"
      ]
     },
     "execution_count": 44,
     "metadata": {},
     "output_type": "execute_result"
    }
   ],
   "source": [
    "param_grid = {'C': [0.001, 0.01, 0.1, 1, 10]}\n",
    "\n",
    "grid = GridSearchCV(LogisticRegression(), param_grid, cv=5)\n",
    "grid.fit(X_train, y_train)"
   ]
  },
  {
   "cell_type": "code",
   "execution_count": 45,
   "metadata": {},
   "outputs": [
    {
     "name": "stdout",
     "output_type": "stream",
     "text": [
      "Best cross-validation score: 0.891\n",
      "Best parameters:  {'C': 0.1}\n"
     ]
    }
   ],
   "source": [
    "print(\"Best cross-validation score: {:.3f}\".format(grid.best_score_))\n",
    "print(\"Best parameters: \", grid.best_params_)"
   ]
  },
  {
   "cell_type": "markdown",
   "metadata": {},
   "source": [
    "### _Apply Best Parameters_ from GridSearchCV on $\\underline{Testing\\ data}$"
   ]
  },
  {
   "cell_type": "code",
   "execution_count": 46,
   "metadata": {},
   "outputs": [
    {
     "name": "stdout",
     "output_type": "stream",
     "text": [
      "0.890\n"
     ]
    }
   ],
   "source": [
    "print(\"{:.3f}\".format(grid.score(X_test, y_test)))"
   ]
  },
  {
   "cell_type": "code",
   "execution_count": 47,
   "metadata": {},
   "outputs": [
    {
     "name": "stdout",
     "output_type": "stream",
     "text": [
      "Grid Logistic Reg - F1 score: 0.938\n"
     ]
    }
   ],
   "source": [
    "grid_log_f1 = f1_score(y_test, log_y_pred)\n",
    "print(\"Grid Logistic Reg - F1 score: {:.3f}\".format(grid_log_f1))"
   ]
  },
  {
   "cell_type": "code",
   "execution_count": 49,
   "metadata": {},
   "outputs": [],
   "source": [
    "cnf_matrix = confusion_matrix(y_test, log_y_pred)"
   ]
  },
  {
   "cell_type": "markdown",
   "metadata": {},
   "source": [
    "---\n",
    "## `TfidfVectorizer` with Pipeline through `GridSearchCV`"
   ]
  },
  {
   "cell_type": "code",
   "execution_count": 50,
   "metadata": {
    "scrolled": true
   },
   "outputs": [
    {
     "name": "stderr",
     "output_type": "stream",
     "text": [
      "C:\\Users\\ASUS\\Anaconda3\\lib\\site-packages\\sklearn\\linear_model\\logistic.py:433: FutureWarning: Default solver will be changed to 'lbfgs' in 0.22. Specify a solver to silence this warning.\n",
      "  FutureWarning)\n",
      "C:\\Users\\ASUS\\Anaconda3\\lib\\site-packages\\sklearn\\svm\\base.py:922: ConvergenceWarning: Liblinear failed to converge, increase the number of iterations.\n",
      "  \"the number of iterations.\", ConvergenceWarning)\n"
     ]
    },
    {
     "name": "stdout",
     "output_type": "stream",
     "text": [
      "Best cross-validation score: 0.892\n",
      "Best parameters:  {'logisticregression__C': 0.001}\n"
     ]
    }
   ],
   "source": [
    "# Attempt one ... with no Test phase\n",
    "pipeline = make_pipeline(TfidfVectorizer(min_df=5, norm=None),\n",
    "                     LogisticRegression())\n",
    "tfidf_param_grid = {'logisticregression__C': [0.001, 0.01, 0.1, 1, 10]}\n",
    "\n",
    "tfidf_grid = GridSearchCV(pipeline, tfidf_param_grid, cv=5)\n",
    "tfidf_grid.fit(x_train, y_train)\n",
    "\n",
    "print(\"Best cross-validation score: {:.3f}\".format(tfidf_grid.best_score_))\n",
    "print(\"Best parameters: \", tfidf_grid.best_params_)"
   ]
  },
  {
   "cell_type": "markdown",
   "metadata": {},
   "source": [
    "### Attempt two ... Ran for 4 hours and only completed one Fold  : ("
   ]
  },
  {
   "cell_type": "code",
   "execution_count": 51,
   "metadata": {
    "scrolled": false
   },
   "outputs": [],
   "source": [
    "# Code Excerpt Adapted From: “Python Machine Learning.” iBooks. pg.403-404 \n",
    "\n",
    "# tfidf_vect = TfidfVectorizer(strip_accents=None,\n",
    "#                              lowercase=False,\n",
    "#                              preprocessor=None)\n",
    "\n",
    "# tfidf_param_grid = [{'vect__ngram_range': [(1,1)],\n",
    "#                       'vect__stop_words': [stops, None],\n",
    "#                       'vect__tokenizer': [tokenizer2],\n",
    "#                       'clf__penalty': ['l1', 'l2'],\n",
    "#                       'clf__C': [1.0, 10.0, 100.0]},\n",
    "#                      {'vect__ngram_range': [(1,1)],\n",
    "#                       'vect__stop_words': [stops, None],\n",
    "#                       'vect__tokenizer': [tokenizer2],\n",
    "#                       'vect__use_idf':[False],\n",
    "#                       'vect__norm':[None],\n",
    "#                       'clf__penalty': ['l1', 'l2'],\n",
    "#                       'clf__C': [1.0, 10.0, 100.0]}\n",
    "#                     ]\n",
    "\n",
    "# lr_tfidf = Pipeline([('vect', tfidf_vect),\n",
    "#                      ('clf',\n",
    "#                       LogisticRegression(random_state=0))])\n",
    "\n",
    "# gs_lr_tfidf = GridSearchCV(lr_tfidf, tfidf_param_grid,\n",
    "#                            scoring='accuracy',\n",
    "#                            cv=5, verbose=1,\n",
    "#                            n_jobs=-1)\n",
    "\n",
    "# gs_lr_tfidf.fit(x_train, y_train)"
   ]
  },
  {
   "cell_type": "markdown",
   "metadata": {},
   "source": [
    "---\n",
    "## Multinomial Bayes \n",
    "### on Training data"
   ]
  },
  {
   "cell_type": "markdown",
   "metadata": {},
   "source": [
    "## `CountVectorizer`"
   ]
  },
  {
   "cell_type": "code",
   "execution_count": 52,
   "metadata": {},
   "outputs": [
    {
     "data": {
      "text/plain": [
       "MultinomialNB(alpha=0.01, class_prior=None, fit_prior=True)"
      ]
     },
     "execution_count": 52,
     "metadata": {},
     "output_type": "execute_result"
    }
   ],
   "source": [
    "mnb = MultinomialNB(alpha=.01)\n",
    "mnb.fit(X_train, y_train)"
   ]
  },
  {
   "cell_type": "code",
   "execution_count": 53,
   "metadata": {},
   "outputs": [],
   "source": [
    "mnb_y_pred = mnb.predict(X_test)"
   ]
  },
  {
   "cell_type": "code",
   "execution_count": 54,
   "metadata": {},
   "outputs": [
    {
     "name": "stdout",
     "output_type": "stream",
     "text": [
      "Accuracy:   0.865\n"
     ]
    }
   ],
   "source": [
    "mnb_score = accuracy_score(y_test, mnb_y_pred)\n",
    "print(\"Accuracy:   {:.3f}\".format(mnb_score))"
   ]
  },
  {
   "cell_type": "code",
   "execution_count": 55,
   "metadata": {},
   "outputs": [
    {
     "name": "stdout",
     "output_type": "stream",
     "text": [
      "Training set score: 0.883\n",
      "Test set score: 0.865\n"
     ]
    }
   ],
   "source": [
    "print(\"Training set score: {:.3f}\".format(mnb.score(X_train, y_train)))\n",
    "print(\"Test set score: {:.3f}\".format(mnb.score(X_test, y_test)))"
   ]
  },
  {
   "cell_type": "code",
   "execution_count": 56,
   "metadata": {},
   "outputs": [
    {
     "name": "stdout",
     "output_type": "stream",
     "text": [
      "Confusion matrix:\n",
      "[[ 5968  4966]\n",
      " [ 5009 58142]]\n",
      "\n",
      "---------------\n",
      "[['TN' 'FP']\n",
      " ['FN' 'TP']]\n"
     ]
    }
   ],
   "source": [
    "mnb_cfm = confusion_matrix(y_test, mnb_y_pred)\n",
    "print(\"Confusion matrix:\")\n",
    "print(mnb_cfm, end='\\n\\n')\n",
    "print('-'*15)\n",
    "print(np.array([['TN', 'FP'],[ 'FN' , 'TP']]))"
   ]
  },
  {
   "cell_type": "code",
   "execution_count": 57,
   "metadata": {},
   "outputs": [
    {
     "data": {
      "image/png": "[encoded data removed]",
      "text/plain": [
       "<Figure size 432x288 with 2 Axes>"
      ]
     },
     "metadata": {
      "needs_background": "light"
     },
     "output_type": "display_data"
    }
   ],
   "source": [
    "plt.imshow(mnb_cfm, interpolation='nearest')\n",
    "\n",
    "for i, j in itertools.product(range(mnb_cfm.shape[0]), range(mnb_cfm.shape[1])):\n",
    "    plt.text(j, i, mnb_cfm[i, j],\n",
    "             horizontalalignment=\"center\",\n",
    "             color=\"white\")\n",
    "\n",
    "plt.ylabel('True label (Recall)')\n",
    "plt.xlabel('Predicted label (Precision)')\n",
    "plt.title('Multinomial | Confusion Matrix')\n",
    "plt.colorbar();"
   ]
  },
  {
   "cell_type": "code",
   "execution_count": 58,
   "metadata": {},
   "outputs": [
    {
     "name": "stdout",
     "output_type": "stream",
     "text": [
      "Multinomial NB - F1 score: 0.921\n"
     ]
    }
   ],
   "source": [
    "mnb_f1 = f1_score(y_test, mnb_y_pred)\n",
    "print(\"Multinomial NB - F1 score: {:.3f}\".format(mnb_f1))"
   ]
  },
  {
   "cell_type": "markdown",
   "metadata": {},
   "source": [
    "## `TfidfVectorizer`"
   ]
  },
  {
   "cell_type": "code",
   "execution_count": 59,
   "metadata": {},
   "outputs": [
    {
     "name": "stdout",
     "output_type": "stream",
     "text": [
      "X_train:\n",
      "<222252x28733 sparse matrix of type '<class 'numpy.float64'>'\n",
      "\twith 12428687 stored elements in Compressed Sparse Row format>\n"
     ]
    }
   ],
   "source": [
    "# Vectorize X_train\n",
    "mnb_tfidfvectorizer = TfidfVectorizer(min_df=5).fit(x_train)\n",
    "mnb_X_train = mnb_tfidfvectorizer.transform(x_train)\n",
    "print(\"X_train:\\n{}\".format(repr(mnb_X_train)))"
   ]
  },
  {
   "cell_type": "code",
   "execution_count": 60,
   "metadata": {},
   "outputs": [],
   "source": [
    "mnb_X_test = mnb_tfidfvectorizer.transform(x_test)\n",
    "\n",
    "mnb_y_pred = mnb.predict(mnb_X_test)"
   ]
  },
  {
   "cell_type": "code",
   "execution_count": 61,
   "metadata": {},
   "outputs": [
    {
     "name": "stdout",
     "output_type": "stream",
     "text": [
      "Accuracy:   0.856\n"
     ]
    }
   ],
   "source": [
    "mnb_score2 = accuracy_score(y_test, mnb_y_pred)\n",
    "print(\"Accuracy:   {:.3f}\".format(mnb_score2))"
   ]
  },
  {
   "cell_type": "code",
   "execution_count": 62,
   "metadata": {},
   "outputs": [
    {
     "name": "stdout",
     "output_type": "stream",
     "text": [
      "Training set score: 0.861\n",
      "Test set score: 0.856\n"
     ]
    }
   ],
   "source": [
    "print(\"Training set score: {:.3f}\".format(mnb.score(mnb_X_train, y_train)))\n",
    "print(\"Test set score: {:.3f}\".format(mnb.score(mnb_X_test, y_test)))"
   ]
  },
  {
   "cell_type": "code",
   "execution_count": 63,
   "metadata": {},
   "outputs": [
    {
     "name": "stdout",
     "output_type": "stream",
     "text": [
      "Confusion matrix:\n",
      "[[  312 10622]\n",
      " [   42 63109]]\n",
      "\n",
      "---------------\n",
      "[['TN' 'FP']\n",
      " ['FN' 'TP']]\n"
     ]
    }
   ],
   "source": [
    "mnb_cfm2 = confusion_matrix(y_test, mnb_y_pred)\n",
    "print(\"Confusion matrix:\")\n",
    "print(mnb_cfm2, end='\\n\\n')\n",
    "print('-'*15)\n",
    "print(np.array([['TN', 'FP'],[ 'FN' , 'TP']]))"
   ]
  },
  {
   "cell_type": "code",
   "execution_count": 64,
   "metadata": {},
   "outputs": [
    {
     "data": {
      "image/png": "[encoded data removed]",
      "text/plain": [
       "<Figure size 432x288 with 2 Axes>"
      ]
     },
     "metadata": {
      "needs_background": "light"
     },
     "output_type": "display_data"
    }
   ],
   "source": [
    "plt.imshow(mnb_cfm2, interpolation='nearest')\n",
    "\n",
    "for i, j in itertools.product(range(mnb_cfm2.shape[0]), range(mnb_cfm2.shape[1])):\n",
    "    plt.text(j, i, mnb_cfm2[i, j],\n",
    "             horizontalalignment=\"center\",\n",
    "             color=\"white\")\n",
    "\n",
    "plt.ylabel('True label (Recall)')\n",
    "plt.xlabel('Predicted label (Precision)')\n",
    "plt.title('Multinomial | Confusion Matrix')\n",
    "plt.colorbar();"
   ]
  },
  {
   "cell_type": "code",
   "execution_count": 65,
   "metadata": {},
   "outputs": [
    {
     "name": "stdout",
     "output_type": "stream",
     "text": [
      "Multinomial NB - F1 score: 0.922\n"
     ]
    }
   ],
   "source": [
    "mnb2_f1 = f1_score(y_test, mnb_y_pred)\n",
    "print(\"Multinomial NB - F1 score: {:.3f}\".format(mnb2_f1))"
   ]
  },
  {
   "cell_type": "markdown",
   "metadata": {},
   "source": [
    "### Summary:\n",
    "\n",
    "* Logistic with TF wins!\n",
    "\n",
    "* Multinomial NB with Tfidf in second.\n",
    "\n",
    "* Take aways - What could SVM or Random Forest result in? What's going with Logistic Tfidf?"
   ]
  },
  {
   "cell_type": "markdown",
   "metadata": {},
   "source": [
    "---\n",
    "\n",
    "# `Clustering / Topic Modeling (NMF and Lda)`"
   ]
  },
  {
   "cell_type": "markdown",
   "metadata": {},
   "source": [
    "---\n",
    "## Clustering Vectorize:\n",
    "### `CountVectorizer` & `Tf-idf`\n"
   ]
  },
  {
   "cell_type": "markdown",
   "metadata": {},
   "source": [
    "* With NLTK stopwords "
   ]
  },
  {
   "cell_type": "code",
   "execution_count": 66,
   "metadata": {},
   "outputs": [],
   "source": [
    "# Use tf-idf features\n",
    "tfidf_vectorizer = TfidfVectorizer(stop_words=stops)\n",
    "tfidf = tfidf_vectorizer.fit_transform(review_text)\n",
    "\n",
    "# Use tf features\n",
    "tf_vectorizer = CountVectorizer(stop_words=stops)\n",
    "tf = tf_vectorizer.fit_transform(review_text)"
   ]
  },
  {
   "cell_type": "code",
   "execution_count": 67,
   "metadata": {},
   "outputs": [
    {
     "name": "stdout",
     "output_type": "stream",
     "text": [
      "Number of total features: 124407\n"
     ]
    }
   ],
   "source": [
    "tfidf_feature_names = tfidf_vectorizer.get_feature_names()\n",
    "print(\"Number of total features: {}\".format(len(tfidf_feature_names)))"
   ]
  },
  {
   "cell_type": "markdown",
   "metadata": {},
   "source": [
    "---\n",
    "## Build Clustering Models:\n",
    "## `Nonnegative Matrix Factorization (NMF)` \n",
    "### & \n",
    "## `Latent Dirichlet Allocation (Lda)`"
   ]
  },
  {
   "cell_type": "code",
   "execution_count": 68,
   "metadata": {},
   "outputs": [],
   "source": [
    "# Initialize NMF\n",
    "nmf = NMF(n_components=10, random_state=1,\n",
    "          alpha=.1, l1_ratio=.5)\n",
    "\n",
    "# Initialize Ida\n",
    "lda = LatentDirichletAllocation(n_topics=10, max_iter=5,\n",
    "                                learning_method='online',\n",
    "                                learning_offset=50.,\n",
    "                                random_state=0)"
   ]
  },
  {
   "cell_type": "code",
   "execution_count": 69,
   "metadata": {},
   "outputs": [],
   "source": [
    "num_top_words = 15\n",
    "\n",
    "def retrieve_top_words(model, feature_names, num_top_words):\n",
    "    for idx, topic in enumerate(model.components_):\n",
    "        print(\"Topic #{}:\".format(idx), end='\\n')\n",
    "        print(\" \".join([feature_names[i]\n",
    "                        for i in topic.argsort()[:-num_top_words - 1:-1]]), end='\\n\\n')\n",
    "    print()"
   ]
  },
  {
   "cell_type": "markdown",
   "metadata": {},
   "source": [
    "## `Term frequency` [ tf ]\n",
    "\n",
    "## NMF"
   ]
  },
  {
   "cell_type": "code",
   "execution_count": 70,
   "metadata": {},
   "outputs": [],
   "source": [
    "nmf_tf = nmf.fit(tf)"
   ]
  },
  {
   "cell_type": "code",
   "execution_count": 71,
   "metadata": {},
   "outputs": [
    {
     "data": {
      "text/plain": [
       "Counter({0: 52626,\n",
       "         4: 25615,\n",
       "         6: 66406,\n",
       "         3: 14056,\n",
       "         5: 15183,\n",
       "         8: 12275,\n",
       "         7: 47307,\n",
       "         2: 14866,\n",
       "         9: 29629,\n",
       "         1: 18374})"
      ]
     },
     "execution_count": 71,
     "metadata": {},
     "output_type": "execute_result"
    }
   ],
   "source": [
    "nmf_ = nmf_tf.transform(tf)\n",
    "Counter([np.argmax(i) for i in nmf_])"
   ]
  },
  {
   "cell_type": "code",
   "execution_count": 72,
   "metadata": {},
   "outputs": [
    {
     "name": "stdout",
     "output_type": "stream",
     "text": [
      "Topic #0:\n",
      "use get time would also used back using much water need even work first easy\n",
      "\n",
      "Topic #1:\n",
      "knife blade handle knives steel sheath sharp edge pocket good well would clip use hand\n",
      "\n",
      "Topic #2:\n",
      "bike rack seat bikes lock ride road tire front riding rear tires frame chain put\n",
      "\n",
      "Topic #3:\n",
      "bag water pack small carry pocket bottle strap fit bags top side straps well compartment\n",
      "\n",
      "Topic #4:\n",
      "one two bought another buy got first new side thing years time back amazon even\n",
      "\n",
      "Topic #5:\n",
      "light bright battery batteries lights mount mode led night see use lantern red low enough\n",
      "\n",
      "Topic #6:\n",
      "good well would scope gun made price quality fit sight rifle product nice case range\n",
      "\n",
      "Topic #7:\n",
      "great works price product easy quality love little buy bought recommend work fits fit perfect\n",
      "\n",
      "Topic #8:\n",
      "34 size fit belt holster small little large grip pistol case right long fits waist\n",
      "\n",
      "Topic #9:\n",
      "like really much would feel little also looks better thing look nice think size something\n",
      "\n",
      "\n"
     ]
    }
   ],
   "source": [
    "retrieve_top_words(nmf_tf, tfidf_feature_names, num_top_words)"
   ]
  },
  {
   "cell_type": "markdown",
   "metadata": {},
   "source": [
    "### ..........<  `NMF / tf Topics`  >..........\n",
    "\n",
    "    Topic #0:\n",
    "    use get time would also used back using much water need even work first easy\n",
    "\n",
    "**[ Water Bottle/Purification ]**\n",
    "\n",
    "    Topic #1:\n",
    "    knife blade handle knives steel sheath sharp edge pocket good well would clip use hand\n",
    "\n",
    "**[ Knives and accessories ]**\n",
    "\n",
    "    Topic #2:\n",
    "    bike rack seat bikes lock ride road tire front riding rear tires frame chain put\n",
    "    \n",
    "**[ Biking ]**\n",
    "\n",
    "    Topic #3:\n",
    "    bag water pack small carry pocket bottle strap fit bags top side straps well compartment\n",
    "    \n",
    "**[ Backpacking ]**\n",
    "\n",
    "    Topic #4:\n",
    "    one two bought another buy got first new side thing years time back amazon even\n",
    "    \n",
    "**[ ??? ]**\n",
    "\n",
    "    Topic #5:\n",
    "    light bright battery batteries lights mount mode led night see use lantern red low enough\n",
    "    \n",
    "**[ Lanterns/Flashlights ]**\n",
    "\n",
    "    Topic #6:\n",
    "    good well would scope gun made price quality fit sight rifle product nice case range\n",
    "    \n",
    "**[ Rifle/shooting equipment ]**\n",
    "\n",
    "    Topic #7:\n",
    "    great works price product easy quality love little buy bought recommend work fits fit perfect\n",
    "    \n",
    "**[ -- Positive Feedback -- ]**\n",
    "\n",
    "    Topic #8:\n",
    "    34 size fit belt holster small little large grip pistol case right long fits waist\n",
    "    \n",
    "**[ Pistol/shooting equipment ]**\n",
    "\n",
    "    Topic #9:\n",
    "    like really much would feel little also looks better thing look nice think size something\n",
    "    \n",
    "**[ -- Positive Feedback -- ]**"
   ]
  },
  {
   "cell_type": "markdown",
   "metadata": {},
   "source": [
    "## Lda"
   ]
  },
  {
   "cell_type": "code",
   "execution_count": 73,
   "metadata": {},
   "outputs": [
    {
     "name": "stderr",
     "output_type": "stream",
     "text": [
      "C:\\Users\\ASUS\\Anaconda3\\lib\\site-packages\\sklearn\\decomposition\\online_lda.py:314: DeprecationWarning: n_topics has been renamed to n_components in version 0.19 and will be removed in 0.21\n",
      "  DeprecationWarning)\n"
     ]
    }
   ],
   "source": [
    "lda_tf = lda.fit(tf)"
   ]
  },
  {
   "cell_type": "code",
   "execution_count": 74,
   "metadata": {},
   "outputs": [
    {
     "data": {
      "text/plain": [
       "Counter({2: 38344,\n",
       "         1: 30429,\n",
       "         3: 38588,\n",
       "         4: 29083,\n",
       "         6: 24005,\n",
       "         5: 869,\n",
       "         0: 113757,\n",
       "         7: 2616,\n",
       "         8: 10653,\n",
       "         9: 7993})"
      ]
     },
     "execution_count": 74,
     "metadata": {},
     "output_type": "execute_result"
    }
   ],
   "source": [
    "lda_ = lda_tf.transform(tf)\n",
    "Counter([np.argmax(i) for i in lda_])"
   ]
  },
  {
   "cell_type": "code",
   "execution_count": 75,
   "metadata": {},
   "outputs": [
    {
     "name": "stdout",
     "output_type": "stream",
     "text": [
      "Topic #0:\n",
      "use one like well would get great really also time need much keep little good\n",
      "\n",
      "Topic #1:\n",
      "bike easy side front mount use tool ride one fit rack back lock screw rear\n",
      "\n",
      "Topic #2:\n",
      "like one would plastic good get looks time better much thing watch really first little\n",
      "\n",
      "Topic #3:\n",
      "great good price well quality 34 product would made buy recommend works one fit like\n",
      "\n",
      "Topic #4:\n",
      "knife blade handle steel sharp one knives sheath like good edge great well pocket use\n",
      "\n",
      "Topic #5:\n",
      "light battery bright batteries laser installed green rain power red pedometer lantern computer data charger\n",
      "\n",
      "Topic #6:\n",
      "gun scope sight rifle range holster ar shooting pistol rail rounds sights 22 stock use\n",
      "\n",
      "Topic #7:\n",
      "bag pack small carry pocket gear pockets phone side camping inside bags velcro fire stuff\n",
      "\n",
      "Topic #8:\n",
      "ball one color old set tent minutes got fun back stand kids year 25 34\n",
      "\n",
      "Topic #9:\n",
      "water bottle clean use stove cleaning kit bottles hot pot cup lid used cap drink\n",
      "\n",
      "\n"
     ]
    }
   ],
   "source": [
    "retrieve_top_words(lda_tf, tfidf_feature_names, num_top_words)"
   ]
  },
  {
   "cell_type": "markdown",
   "metadata": {},
   "source": [
    "### ..........<  `Lda / tf Topics`  >..........\n",
    "    Topic #0:\n",
    "    use one like well would get great really also time need much keep little good\n",
    "    \n",
    "**[ -- Positive Feedback -- ]**\n",
    "\n",
    "    Topic #1:\n",
    "    bike easy side front mount use tool ride one fit rack back lock screw rear\n",
    "    \n",
    "**[ Biking ]**\n",
    "\n",
    "    Topic #2:\n",
    "    like one would plastic good get looks time better much thing watch really first little\n",
    "    \n",
    "**[ ??? ]**\n",
    "\n",
    "    Topic #3:\n",
    "    great good price well quality 34 product would made buy recommend works one fit like\n",
    "    \n",
    "**[ -- Positive Feedback ]**\n",
    "\n",
    "    Topic #4:\n",
    "    knife blade handle steel sharp one knives sheath like good edge great well pocket use\n",
    "    \n",
    "**[ Knives and accessories ]**\n",
    "\n",
    "    Topic #5:\n",
    "    light battery bright batteries laser installed green rain power red pedometer lantern computer data charger\n",
    "    \n",
    "**[ Outdoor Electronics ]**\n",
    "\n",
    "    Topic #6:\n",
    "    gun scope sight rifle range holster ar shooting pistol rail rounds sights 22 stock use\n",
    "    \n",
    "**[ Shooting ]**\n",
    "\n",
    "    Topic #7:\n",
    "    bag pack small carry pocket gear pockets phone side camping inside bags velcro fire stuff\n",
    "    \n",
    "**[ Backpacking ]**\n",
    "\n",
    "    Topic #8:\n",
    "    ball one color old set tent minutes got fun back stand kids year 25 34\n",
    "    \n",
    "**[ ??? ]**\n",
    "\n",
    "    Topic #9:\n",
    "    water bottle clean use stove cleaning kit bottles hot pot cup lid used cap drink\n",
    "    \n",
    "**[ Water bottle/Cooking ]**"
   ]
  },
  {
   "cell_type": "markdown",
   "metadata": {},
   "source": [
    "## `Term frequency-inverse document frequency` [ tfidf ]\n",
    "\n",
    "## NMF"
   ]
  },
  {
   "cell_type": "code",
   "execution_count": 76,
   "metadata": {},
   "outputs": [],
   "source": [
    "nmf_tfidf = nmf.fit(tfidf)"
   ]
  },
  {
   "cell_type": "code",
   "execution_count": 77,
   "metadata": {},
   "outputs": [
    {
     "data": {
      "text/plain": [
       "Counter({0: 109098,\n",
       "         7: 14761,\n",
       "         4: 24061,\n",
       "         8: 28261,\n",
       "         6: 11945,\n",
       "         2: 26765,\n",
       "         5: 23085,\n",
       "         9: 13534,\n",
       "         1: 21925,\n",
       "         3: 22902})"
      ]
     },
     "execution_count": 77,
     "metadata": {},
     "output_type": "execute_result"
    }
   ],
   "source": [
    "nmf_W = nmf_tfidf.transform(tfidf)\n",
    "Counter([np.argmax(i) for i in nmf_W])"
   ]
  },
  {
   "cell_type": "code",
   "execution_count": 78,
   "metadata": {},
   "outputs": [
    {
     "name": "stdout",
     "output_type": "stream",
     "text": [
      "Topic #0:\n",
      "one like use get would time little really much used better need work bought also\n",
      "\n",
      "Topic #1:\n",
      "knife blade sharp sheath knives handle edge steel pocket carry hand open clip box edc\n",
      "\n",
      "Topic #2:\n",
      "great works product price easy recommend buy love looks use highly work item would install\n",
      "\n",
      "Topic #3:\n",
      "scope sight rifle mount dot sights rail 22 red rings gun ar zero range mounted\n",
      "\n",
      "Topic #4:\n",
      "bike light bright easy rack road seat ride riding bikes mount lights install tire mountain\n",
      "\n",
      "Topic #5:\n",
      "good quality price product buy nice looks pretty would value recommend high seems money job\n",
      "\n",
      "Topic #6:\n",
      "34 size fit waist large belt length case barrel medium shorts tactical ordered fits small\n",
      "\n",
      "Topic #7:\n",
      "bag pack carry sleeping small bags range room bug pockets straps kit gear stuff strap\n",
      "\n",
      "Topic #8:\n",
      "well made fit holster works fits belt nice holds perfectly work seems built gun comfortable\n",
      "\n",
      "Topic #9:\n",
      "water bottle bottles drink filter cold cap ice nalgene cage cup drinking clean taste mouth\n",
      "\n",
      "\n"
     ]
    }
   ],
   "source": [
    "retrieve_top_words(nmf_tfidf, tfidf_feature_names, num_top_words)"
   ]
  },
  {
   "cell_type": "markdown",
   "metadata": {},
   "source": [
    "### ..........<  `NMF / tfidf Topics`  >..........\n",
    "\n",
    "    Topic #0:\n",
    "    one like use get would time little really much used better need work bought also\n",
    "    \n",
    "**[ -- Positive Feedback -- ]**\n",
    "\n",
    "    Topic #1:\n",
    "    knife blade sharp sheath knives handle edge steel pocket carry hand open clip box edc\n",
    "    \n",
    "**[ Knives and accessories ]**\n",
    "\n",
    "    Topic #2:\n",
    "    great works product price easy recommend buy love looks use highly work item would install\n",
    "    \n",
    "**[ -- Positive Feedback -- ]**\n",
    "\n",
    "    Topic #3:\n",
    "    scope sight rifle mount dot sights rail 22 red rings gun ar zero range mounted\n",
    "    \n",
    "**[ Rifle scopes/mounting ]**\n",
    "\n",
    "    Topic #4:\n",
    "    bike light bright easy rack road seat ride riding bikes mount lights install tire mountain\n",
    "    \n",
    "**[ Biking ]**\n",
    "\n",
    "    Topic #5:\n",
    "    good quality price product buy nice looks pretty would value recommend high seems money job\n",
    "    \n",
    "**[ -- Postive Feedback -- ]**\n",
    "\n",
    "    Topic #6:\n",
    "    34 size fit waist large belt length case barrel medium shorts tactical ordered fits small\n",
    "    \n",
    "**[ Shooting accessories ]**\n",
    "\n",
    "    Topic #7:\n",
    "    bag pack carry sleeping small bags range room bug pockets straps kit gear stuff strap\n",
    "    \n",
    "**[ Backpacking ]**\n",
    "\n",
    "    Topic #8:\n",
    "    well made fit holster works fits belt nice holds perfectly work seems built gun comfortable\n",
    "    \n",
    "**[ Pistol holster(s) ]**\n",
    "\n",
    "    Topic #9:\n",
    "    water bottle bottles drink filter cold cap ice nalgene cage cup drinking clean taste mouth\n",
    "    \n",
    "**[ Water Bottles ( Nalgene ) ]**"
   ]
  },
  {
   "cell_type": "markdown",
   "metadata": {},
   "source": [
    "## Lda"
   ]
  },
  {
   "cell_type": "code",
   "execution_count": 79,
   "metadata": {},
   "outputs": [
    {
     "name": "stderr",
     "output_type": "stream",
     "text": [
      "C:\\Users\\ASUS\\Anaconda3\\lib\\site-packages\\sklearn\\decomposition\\online_lda.py:314: DeprecationWarning: n_topics has been renamed to n_components in version 0.19 and will be removed in 0.21\n",
      "  DeprecationWarning)\n"
     ]
    }
   ],
   "source": [
    "lda_tfidf = lda.fit(tfidf)"
   ]
  },
  {
   "cell_type": "code",
   "execution_count": 80,
   "metadata": {},
   "outputs": [
    {
     "data": {
      "text/plain": [
       "Counter({0: 295709,\n",
       "         5: 232,\n",
       "         6: 119,\n",
       "         4: 30,\n",
       "         9: 46,\n",
       "         2: 48,\n",
       "         3: 26,\n",
       "         7: 33,\n",
       "         1: 48,\n",
       "         8: 46})"
      ]
     },
     "execution_count": 80,
     "metadata": {},
     "output_type": "execute_result"
    }
   ],
   "source": [
    "lda_W = lda_tfidf.transform(tfidf)\n",
    "Counter([np.argmax(i) for i in lda_W])"
   ]
  },
  {
   "cell_type": "code",
   "execution_count": 81,
   "metadata": {},
   "outputs": [
    {
     "name": "stdout",
     "output_type": "stream",
     "text": [
      "Topic #0:\n",
      "great good well one like use would knife get easy price product works light little\n",
      "\n",
      "Topic #1:\n",
      "strobe drills lasers darts 556 speedsafe ghost p15 finder p22 prob 1800 kicked th madden\n",
      "\n",
      "Topic #2:\n",
      "tomahawk hydro 8221 laserlyte tipton component golfing reloader blah jaw 8220 triathlon mp5 gather romanian\n",
      "\n",
      "Topic #3:\n",
      "stud uncle plugged emailed messenger tcp agility mike quickster snakes 62x54r spanner motorists technically trophy\n",
      "\n",
      "Topic #4:\n",
      "dpms golfer 8230 readings retaining wireless apps samsung tablet industries callaway tek swords cuff evaluation\n",
      "\n",
      "Topic #5:\n",
      "water bottle stove pot bottles filter cup fuel lid canteen coffee hot taste cooking mouth\n",
      "\n",
      "Topic #6:\n",
      "levers witness cygolite monkey rcbs pt trx pi ti crossbows 9658 mma headphone silky ons\n",
      "\n",
      "Topic #7:\n",
      "nikon carabiner lil tights bdc turrets acog cree blurry freewheel sightmark boresighter leapers prescription rips\n",
      "\n",
      "Topic #8:\n",
      "clubs bivy strands froglube insanity http www sr carabiners ref bcm gp sunday stacker organizing\n",
      "\n",
      "Topic #9:\n",
      "invicta wahoo golfers hoodie buttpad shades pachmayr mako headbands cop baseballs koozie setups void benelli\n",
      "\n",
      "\n"
     ]
    }
   ],
   "source": [
    "retrieve_top_words(lda_tfidf, tfidf_feature_names, num_top_words)"
   ]
  },
  {
   "cell_type": "markdown",
   "metadata": {},
   "source": [
    "### ..........<  `Lda / tfidf Topics`  >..........\n",
    "\n",
    "    Topic #0:\n",
    "    great good well one like use would knife get easy price product works light little\n",
    "    \n",
    "** [ -- Positive Feedback .. Knife? -- ] **\n",
    "\n",
    "    Topic #1:\n",
    "    strobe drills lasers darts 556 speedsafe ghost p15 finder p22 prob 1800 kicked th madden\n",
    "    \n",
    "** [ Madden (Shoes) ] **\n",
    "\n",
    "    Topic #2:\n",
    "    tomahawk hydro 8221 laserlyte tipton component golfing reloader blah jaw 8220 triathlon mp5 gather romanian\n",
    "    \n",
    "** [ Tipton (Rifle cleaning kit) ] **\n",
    "\n",
    "    Topic #3:\n",
    "    stud uncle plugged emailed messenger tcp agility mike quickster snakes 62x54r spanner motorists technically trophy\n",
    "    \n",
    "** [ ??? ] **\n",
    "\n",
    "    Topic #4:\n",
    "    dpms golfer 8230 readings retaining wireless apps samsung tablet industries callaway tek swords cuff evaluation\n",
    "    \n",
    "** [ Samsumg, tablet, wireless, apps ] **\n",
    "\n",
    "    Topic #5:\n",
    "    water bottle stove pot bottles filter cup fuel lid canteen coffee hot taste cooking mouth\n",
    "    \n",
    "** [ _Camping_ ] **\n",
    "\n",
    "    Topic #6:\n",
    "    levers witness cygolite monkey rcbs pt trx pi ti crossbows 9658 mma headphone silky ons\n",
    "    \n",
    "** [ Cygolite (headlamp) ] **\n",
    "\n",
    "    Topic #7:\n",
    "    nikon carabiner lil tights bdc turrets acog cree blurry freewheel sightmark boresighter leapers prescription rips\n",
    "    \n",
    "** [ Nikon (scopes/cameras) ] **\n",
    "\n",
    "    Topic #8:\n",
    "    clubs bivy strands froglube insanity http www sr carabiners ref bcm gp sunday stacker organizing\n",
    "    \n",
    "** [ bivy (sleepingbag-tents) ] **\n",
    "\n",
    "    Topic #9:\n",
    "    invicta wahoo golfers hoodie buttpad shades pachmayr mako headbands cop baseballs koozie setups void benelli\n",
    "    \n",
    "** [ Invicta (watch), Pachmayr (handgun grips), Mako (fishing), Benelli (Rifle) ] **"
   ]
  },
  {
   "cell_type": "markdown",
   "metadata": {},
   "source": [
    "### Summary:\n",
    "\n",
    "* Both **NMF and Lda with tf** were about the same and just ok.\n",
    "\n",
    "\n",
    "* **NMF with tfidf** was the best - with no obsure topics and even correctly associated a topic with a Brand (Nalgene)\n",
    "\n",
    "\n",
    "* **Lda with tfidf** was primarily a unassociated words\n",
    "        However - it did return the most specific and unique words out of them all (i.e. brand news)"
   ]
  },
  {
   "cell_type": "markdown",
   "metadata": {},
   "source": [
    "---\n",
    "# $$NEXT\\ STEPs$$\n",
    "\n",
    "### Model Tweaking or Fix:\n",
    "* Effectively handle Imbalance\n",
    "* Figure out what happened with `TfidfVectorizer` with Pipeline through `GridSearchCV`\n",
    "* Random Forest:"
   ]
  },
  {
   "cell_type": "markdown",
   "metadata": {},
   "source": [
    "---\n",
    "### Random Forest\n",
    ">### [ `X` ] _tfidf-vectorized reviews_\n",
    "\n",
    ">### [ `y` ] _Overall scores_"
   ]
  },
  {
   "cell_type": "code",
   "execution_count": 82,
   "metadata": {},
   "outputs": [],
   "source": [
    "# Random Forest on tfidf_vectorized (X) ; overall scores (y)\n",
    "\n",
    "# Accuracy scores\n",
    "# Confusion matrix\n",
    "# F1 score"
   ]
  },
  {
   "cell_type": "markdown",
   "metadata": {},
   "source": [
    "### Further Application/Productization:\n",
    "* `Recommendation Engine: Collaborative filtering & Factorization Machine`\n",
    "* Scraping `REI` and/or other sports ecommerce sites in order to build a better, more robust `Recommendation Engine` for Sports and Outdoors products -- to reach the goal of a **Recommendation Engine Chatbot for Sports and Outdoors Products** (for say Facebook or Slack)"
   ]
  },
  {
   "cell_type": "markdown",
   "metadata": {},
   "source": [
    "#      $$Questions?  $$  "
   ]
  }
 ],
 "metadata": {
  "anaconda-cloud": {},
  "kernelspec": {
   "display_name": "Python 3",
   "language": "python",
   "name": "python3"
  },
  "language_info": {
   "codemirror_mode": {
    "name": "ipython",
    "version": 3
   },
   "file_extension": ".py",
   "mimetype": "text/x-python",
   "name": "python",
   "nbconvert_exporter": "python",
   "pygments_lexer": "ipython3",
   "version": "3.7.1"
  }
 },
 "nbformat": 4,
 "nbformat_minor": 1
}
